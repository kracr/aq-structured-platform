{
 "cells": [
  {
   "cell_type": "code",
   "execution_count": 1,
   "id": "0c423300",
   "metadata": {},
   "outputs": [],
   "source": [
    "import pandas as pd"
   ]
  },
  {
   "cell_type": "code",
   "execution_count": 2,
   "id": "918b0c95",
   "metadata": {},
   "outputs": [],
   "source": [
    "okhla_c1 = pd.read_csv('okhla_marked_c1.csv')\n",
    "okhla_c2 = pd.read_csv('okhla_marked_c2.csv')\n",
    "okhla_c3 = pd.read_csv('okhla_marked_c3.csv')\n",
    "okhla_c4 = pd.read_csv('okhla_marked_c4.csv')"
   ]
  },
  {
   "cell_type": "code",
   "execution_count": 3,
   "id": "bb0cfb10",
   "metadata": {},
   "outputs": [
    {
     "name": "stdout",
     "output_type": "stream",
     "text": [
      "['From Date', 'To Date', 'PM2.5', 'PM10', 'NO', 'NO2', 'NOx']\n",
      "['From Date', 'To Date', 'NH3', 'SO2', 'CO', 'Ozone', 'Benzene']\n",
      "['From Date', 'To Date', 'Toluene', 'Temp', 'RH', 'WS', 'WD']\n",
      "['From Date', 'To Date', 'SR', 'BP', 'AT', 'RF', 'TOT-RF']\n"
     ]
    }
   ],
   "source": [
    "print(list(okhla_c1.columns))\n",
    "print(list(okhla_c2.columns))\n",
    "print(list(okhla_c3.columns))\n",
    "print(list(okhla_c4.columns))"
   ]
  },
  {
   "cell_type": "code",
   "execution_count": 4,
   "id": "39a24e8a",
   "metadata": {},
   "outputs": [],
   "source": [
    "columns= list(okhla_c1.columns)+list(okhla_c2.columns)+list(okhla_c3.columns)+list(okhla_c4.columns)\n",
    "columns.remove(\"To Date\")\n",
    "columns.remove(\"From Date\")"
   ]
  },
  {
   "cell_type": "code",
   "execution_count": 12,
   "id": "3b8d4f34",
   "metadata": {},
   "outputs": [],
   "source": [
    "def clean(df):\n",
    "    cols = list(df.columns)\n",
    "    cols.remove(\"To Date\")\n",
    "    cols.remove(\"From Date\")\n",
    "    print(len(df),cols)\n",
    "    for c in cols:\n",
    "        df[c] = pd.to_numeric(df[c], errors='coerce')\n",
    "    df = df.dropna()\n",
    "    print(len(df))\n",
    "    return df\n",
    "\n",
    "# df = clean(oklha_m3)\n",
    "# df.to_csv(\"okhla_static.csv\")"
   ]
  },
  {
   "cell_type": "code",
   "execution_count": 24,
   "id": "33b7c143",
   "metadata": {},
   "outputs": [
    {
     "name": "stdout",
     "output_type": "stream",
     "text": [
      "8659 ['PM2.5', 'PM10', 'NO', 'NO2', 'NOx', 'NH3', 'SO2', 'CO', 'Ozone', 'Benzene', 'Toluene', 'RH', 'WS', 'WD', 'SR', 'BP', 'AT', 'RF', 'TOT-RF']\n",
      "7094\n"
     ]
    }
   ],
   "source": [
    "okhla_c1\n",
    "oklha_m1 = pd.merge(okhla_c1, okhla_c2,  how='outer', on=['From Date','To Date'])\n",
    "oklha_m2 = pd.merge(oklha_m1, okhla_c3,  how='outer', on=['From Date','To Date'])\n",
    "oklha_m2 = oklha_m2.drop('Temp', axis=1)\n",
    "\n",
    "oklha_m3 = pd.merge(oklha_m2, okhla_c4,  how='outer', on=['From Date','To Date'])\n",
    "oklha_m3['To Date'] =  pd.to_datetime(oklha_m3['To Date'], format='%d-%m-%Y %H:%M')\n",
    "oklha_m3['From Date'] =  pd.to_datetime(oklha_m3['From Date'], format='%d-%m-%Y %H:%M')\n",
    "oklha_m3['To Date'] = oklha_m3['To Date'].dt.strftime('%Y-%m-%dT%H:%M:%S+05:30')\n",
    "oklha_m3['From Date'] = oklha_m3['From Date'].dt.strftime('%Y-%m-%dT%H:%M:%S+05:30')\n",
    "\n",
    "oklha_m3 = clean(oklha_m3)\n",
    "oklha_m3\n",
    "oklha_m3.to_csv(\"okhla_static.csv\")"
   ]
  },
  {
   "cell_type": "code",
   "execution_count": 25,
   "id": "09276ff9",
   "metadata": {},
   "outputs": [],
   "source": [
    "import pandas as pd"
   ]
  },
  {
   "cell_type": "code",
   "execution_count": 26,
   "id": "2b4026d9",
   "metadata": {},
   "outputs": [],
   "source": [
    "najafgarh_c1 = pd.read_csv('najafgarh_marked_c1.csv')\n",
    "najafgarh_c2 = pd.read_csv('najafgarh_marked_c2.csv')\n",
    "najafgarh_c3 = pd.read_csv('najafgarh_marked_c3.csv')\n",
    "najafgarh_c4 = pd.read_csv('najafgarh_marked_c4.csv')"
   ]
  },
  {
   "cell_type": "code",
   "execution_count": 27,
   "id": "f51b7872",
   "metadata": {},
   "outputs": [
    {
     "name": "stdout",
     "output_type": "stream",
     "text": [
      "['From Date', 'To Date', 'PM2.5', 'PM10', 'NO', 'NO2', 'NOx']\n",
      "['From Date', 'To Date', 'NH3', 'SO2', 'CO', 'Ozone', 'Benzene']\n",
      "['From Date', 'To Date', 'Toluene', 'Temp', 'RH', 'WS', 'WD']\n",
      "['From Date', 'To Date', 'SR', 'BP', 'VWS', 'AT', 'RF']\n"
     ]
    }
   ],
   "source": [
    "print(list(najafgarh_c1.columns))\n",
    "print(list(najafgarh_c2.columns))\n",
    "print(list(najafgarh_c3.columns))\n",
    "print(list(najafgarh_c4.columns))\n",
    "columns= list(najafgarh_c1.columns)+list(najafgarh_c2.columns)+list(najafgarh_c3.columns)+list(najafgarh_c4.columns)\n",
    "columns.remove(\"To Date\")\n",
    "columns.remove(\"From Date\")"
   ]
  },
  {
   "cell_type": "code",
   "execution_count": 53,
   "id": "55fa21a5",
   "metadata": {},
   "outputs": [
    {
     "name": "stdout",
     "output_type": "stream",
     "text": [
      "17283 ['PM2.5', 'PM10', 'NO', 'NO2', 'NOx', 'NH3', 'SO2', 'CO', 'Ozone', 'Benzene', 'Toluene', 'RH', 'WS', 'WD', 'SR', 'BP', 'AT', 'RF']\n",
      "              From Date           To Date  PM2.5   PM10   NO   NO2   NOx  \\\n",
      "0      01-09-2021 00:00  01-09-2021 00:15   23.0   46.0  5.8  26.6  32.4   \n",
      "1      01-09-2021 00:15  01-09-2021 00:30   23.0   46.0  5.2  25.3  30.4   \n",
      "2      01-09-2021 00:30  01-09-2021 00:45   23.0   46.0  5.9  23.7  29.5   \n",
      "3      01-09-2021 00:45  01-09-2021 01:00   23.0   46.0  4.5  23.2  27.7   \n",
      "4      01-09-2021 01:00  01-09-2021 01:15   18.0   45.0  4.2  25.4  29.6   \n",
      "...                 ...               ...    ...    ...  ...   ...   ...   \n",
      "17278  27-02-2022 23:30  27-02-2022 23:45   57.0  206.0  3.3  14.0  17.3   \n",
      "17279  27-02-2022 23:45  28-02-2022 00:00   38.0   90.0  6.3  15.7  22.0   \n",
      "17280  28-02-2022 00:00  28-02-2022 00:15   38.0   90.0  1.2  16.3  17.5   \n",
      "17281  28-02-2022 00:15  28-02-2022 00:30   38.0   90.0  2.7  13.1  15.8   \n",
      "17282  28-02-2022 00:30  28-02-2022 00:39   38.0   90.0  1.8  17.5  19.3   \n",
      "\n",
      "         NH3  SO2   CO  Ozone  Benzene  Toluene    RH   WS     WD   SR     BP  \\\n",
      "0       10.8  2.7  0.9    1.4      0.3      3.5  78.6  1.1   97.5  3.4  986.0   \n",
      "1       10.6  2.8  0.9    1.3      0.3      3.1  78.7  1.2  116.9  3.4  985.7   \n",
      "2       10.7  2.8  0.8    0.7      0.2      2.9  78.7  1.6  135.2  3.4  985.6   \n",
      "3       11.6  2.7  0.8    0.9      0.2      2.7  78.7  2.0  148.1  3.3  985.5   \n",
      "4       11.5  2.7  0.8    NaN      0.2      2.7  78.6  1.7  144.4  3.4  985.4   \n",
      "...      ...  ...  ...    ...      ...      ...   ...  ...    ...  ...    ...   \n",
      "17278    NaN  1.5  1.1    5.7      0.4      0.4  78.6  1.8  351.2  2.6  995.3   \n",
      "17279    NaN  1.7  1.0    7.8      0.3      0.3  76.8  1.8  351.3  2.6  995.2   \n",
      "17280  189.4  1.6  1.0    8.6      0.2      0.3  76.1  1.8  350.8  2.6  995.2   \n",
      "17281   67.1  1.7  1.0    9.0      0.1      0.2  76.0  1.5  350.2  2.6  995.0   \n",
      "17282   60.0  1.8  1.0    7.6      0.1      0.2  77.1  1.4  349.4  2.6  994.8   \n",
      "\n",
      "         AT   RF  \n",
      "0      26.2  0.0  \n",
      "1      26.1  0.0  \n",
      "2      26.0  0.0  \n",
      "3      26.0  0.0  \n",
      "4      25.9  0.0  \n",
      "...     ...  ...  \n",
      "17278  12.3  0.0  \n",
      "17279  13.1  0.0  \n",
      "17280  13.0  0.0  \n",
      "17281  12.8  0.0  \n",
      "17282  12.3  0.0  \n",
      "\n",
      "[17283 rows x 20 columns]\n",
      "11180\n"
     ]
    }
   ],
   "source": [
    "najafgarh_m1 = pd.merge(najafgarh_c1, najafgarh_c2,  how='outer', on=['From Date','To Date'])\n",
    "najafgarh_m2 = pd.merge(najafgarh_m1, najafgarh_c3,  how='outer', on=['From Date','To Date'])\n",
    "najafgarh_m2 = najafgarh_m2.drop('Temp', axis=1)\n",
    "najafgarh_m3 = pd.merge(najafgarh_m2, najafgarh_c4,  how='outer', on=['From Date','To Date'])\n",
    "najafgarh_m3 = najafgarh_m3.drop('VWS', axis=1)\n",
    "najafgarh_m3['To Date'] =  pd.to_datetime(najafgarh_m3['To Date'], format='%d-%m-%Y %H:%M')\n",
    "najafgarh_m3['From Date'] =  pd.to_datetime(najafgarh_m3['From Date'], format='%d-%m-%Y %H:%M')\n",
    "najafgarh_m3['To Date'] = najafgarh_m3['To Date'].dt.strftime('%Y-%m-%dT%H:%M:%S+05:30')\n",
    "najafgarh_m3['From Date'] = najafgarh_m3['From Date'].dt.strftime('%Y-%m-%dT%H:%M:%S+05:30')\n",
    "df = clean(najafgarh_m3)\n",
    "df\n",
    "df.to_csv(\"najafgarh_static.csv\",index=False)\n"
   ]
  }
 ],
 "metadata": {
  "kernelspec": {
   "display_name": "Python 3 (ipykernel)",
   "language": "python",
   "name": "python3"
  },
  "language_info": {
   "codemirror_mode": {
    "name": "ipython",
    "version": 3
   },
   "file_extension": ".py",
   "mimetype": "text/x-python",
   "name": "python",
   "nbconvert_exporter": "python",
   "pygments_lexer": "ipython3",
   "version": "3.9.12"
  }
 },
 "nbformat": 4,
 "nbformat_minor": 5
}
